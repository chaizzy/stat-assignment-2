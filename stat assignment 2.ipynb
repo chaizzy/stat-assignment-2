{
 "cells": [
  {
   "cell_type": "code",
   "execution_count": 1,
   "id": "5ecc97fe-9505-4d82-8013-25833c624a86",
   "metadata": {},
   "outputs": [],
   "source": [
    "# ANS 1:\n",
    "#  Measure of central tendency : mean , median , mode"
   ]
  },
  {
   "cell_type": "code",
   "execution_count": 2,
   "id": "433b6057-eb3e-4876-a2b2-1f73f949a9ad",
   "metadata": {},
   "outputs": [],
   "source": [
    "# ANS 2 :\n",
    "# Mean = Sum of the values / Number of values\n",
    "# Mean gives particular number which overall describes tendency of  data \n",
    "\n",
    "# Median \n",
    "# Odd Number of Observations then:\n",
    "# n+1/2  , where n is no. of values\n",
    "# even Number of Oberservations then:\n",
    "# (n/2 + n/2 + 1)/2 , where n is no. of values\n",
    "# median gives the central part of the distributed data\n",
    "\n",
    "# Mode\n",
    "# maximum number of times a number occurred  in data\n",
    "# It describes by giving the occurences of data"
   ]
  },
  {
   "cell_type": "code",
   "execution_count": 3,
   "id": "5f4f8af9-44e9-4704-9a01-c36451cdee3c",
   "metadata": {},
   "outputs": [],
   "source": [
    "# ANS 3 :\n",
    "height = [178,177,176,177,178.2,178,175,179,180,175,178.9,176.2,177,172.5,178,176.5]"
   ]
  },
  {
   "cell_type": "code",
   "execution_count": 4,
   "id": "bf2125ff-cef5-45af-9ac6-fcd948e7d27f",
   "metadata": {},
   "outputs": [],
   "source": [
    "import numpy as np"
   ]
  },
  {
   "cell_type": "code",
   "execution_count": 6,
   "id": "9ffd4c1b-d587-4e5e-afe7-f07be2869431",
   "metadata": {},
   "outputs": [
    {
     "data": {
      "text/plain": [
       "177.01875"
      ]
     },
     "execution_count": 6,
     "metadata": {},
     "output_type": "execute_result"
    }
   ],
   "source": [
    "# mean\n",
    "np.mean(height)"
   ]
  },
  {
   "cell_type": "code",
   "execution_count": 7,
   "id": "979dd180-5776-491a-8946-e4a09449ee22",
   "metadata": {},
   "outputs": [
    {
     "data": {
      "text/plain": [
       "177.0"
      ]
     },
     "execution_count": 7,
     "metadata": {},
     "output_type": "execute_result"
    }
   ],
   "source": [
    "# median\n",
    "np.median(height)"
   ]
  },
  {
   "cell_type": "code",
   "execution_count": 12,
   "id": "d2c1d2ed-8f1c-4952-be4c-6d419ef7a253",
   "metadata": {},
   "outputs": [],
   "source": [
    "# mode\n",
    "from scipy import stats"
   ]
  },
  {
   "cell_type": "code",
   "execution_count": 13,
   "id": "a0eaf56c-eec5-41ed-b292-39d1658bcfe3",
   "metadata": {},
   "outputs": [
    {
     "name": "stderr",
     "output_type": "stream",
     "text": [
      "/tmp/ipykernel_77/1690947930.py:1: FutureWarning: Unlike other reduction functions (e.g. `skew`, `kurtosis`), the default behavior of `mode` typically preserves the axis it acts along. In SciPy 1.11.0, this behavior will change: the default value of `keepdims` will become False, the `axis` over which the statistic is taken will be eliminated, and the value None will no longer be accepted. Set `keepdims` to True or False to avoid this warning.\n",
      "  stats.mode(height)\n"
     ]
    },
    {
     "data": {
      "text/plain": [
       "ModeResult(mode=array([177.]), count=array([3]))"
      ]
     },
     "execution_count": 13,
     "metadata": {},
     "output_type": "execute_result"
    }
   ],
   "source": [
    "stats.mode(height)"
   ]
  },
  {
   "cell_type": "code",
   "execution_count": 14,
   "id": "87c2abbc-984f-4069-b7dd-5538012fb910",
   "metadata": {},
   "outputs": [
    {
     "data": {
      "text/plain": [
       "1.7885814036548633"
      ]
     },
     "execution_count": 14,
     "metadata": {},
     "output_type": "execute_result"
    }
   ],
   "source": [
    "# ANS 4:\n",
    "np.std(height)"
   ]
  },
  {
   "cell_type": "code",
   "execution_count": 17,
   "id": "112a298e-e12b-493d-9f5c-0c3a8a9db0ac",
   "metadata": {},
   "outputs": [
    {
     "data": {
      "text/plain": [
       "7.5"
      ]
     },
     "execution_count": 17,
     "metadata": {},
     "output_type": "execute_result"
    }
   ],
   "source": [
    "# ANS 5 :\n",
    "\n",
    "# \"RANGE\" : the name itself defines , how well the  central tendency represents the data\n",
    "# it will calculates taking difference between the max value and min value\n",
    "(np.max(height) - np.min(height))"
   ]
  },
  {
   "cell_type": "code",
   "execution_count": null,
   "id": "49a3875c-3633-4ea2-a4c7-11c7efb8770d",
   "metadata": {},
   "outputs": [],
   "source": [
    "# \"VARIANCE\" :The variance is a measure of how much the values in a dataset vary from the mean.\n",
    "# if variance is high then spread will be more and variance is low then spread will be less\n",
    "# for a random variable x variance is 3 and a random variable y variance is 9 \n",
    "# y will have more spread than x"
   ]
  },
  {
   "cell_type": "code",
   "execution_count": 23,
   "id": "4052b492-e844-4394-b756-1b0b1860e2de",
   "metadata": {},
   "outputs": [
    {
     "data": {
      "text/plain": [
       "395.6875"
      ]
     },
     "execution_count": 23,
     "metadata": {},
     "output_type": "execute_result"
    }
   ],
   "source": [
    "age = [23,43,23,65,45,78,32,69]\n",
    "np.var(age)"
   ]
  },
  {
   "cell_type": "code",
   "execution_count": 24,
   "id": "53a6ecd3-71be-498e-af79-c8c16388bdab",
   "metadata": {},
   "outputs": [
    {
     "data": {
      "text/plain": [
       "<AxesSubplot: ylabel='Count'>"
      ]
     },
     "execution_count": 24,
     "metadata": {},
     "output_type": "execute_result"
    },
    {
     "data": {
      "image/png": "[encoded data removed]",
      "text/plain": [
       "<Figure size 640x480 with 1 Axes>"
      ]
     },
     "metadata": {},
     "output_type": "display_data"
    }
   ],
   "source": [
    "import seaborn as sns\n",
    "sns.histplot(age , kde=True)"
   ]
  },
  {
   "cell_type": "code",
   "execution_count": 25,
   "id": "b60e1245-6644-4fbf-86be-cb57792a1170",
   "metadata": {},
   "outputs": [
    {
     "data": {
      "text/plain": [
       "2.0"
      ]
     },
     "execution_count": 25,
     "metadata": {},
     "output_type": "execute_result"
    }
   ],
   "source": [
    "a=[1,2,3,4,5]\n",
    "np.var(a)"
   ]
  },
  {
   "cell_type": "code",
   "execution_count": 26,
   "id": "c52cd188-4fb7-439c-8591-cf1010c5dc15",
   "metadata": {},
   "outputs": [
    {
     "data": {
      "text/plain": [
       "<AxesSubplot: ylabel='Count'>"
      ]
     },
     "execution_count": 26,
     "metadata": {},
     "output_type": "execute_result"
    },
    {
     "data": {
      "image/png": "[encoded data removed]",
      "text/plain": [
       "<Figure size 640x480 with 1 Axes>"
      ]
     },
     "metadata": {},
     "output_type": "display_data"
    }
   ],
   "source": [
    "sns.histplot(a,kde=True)"
   ]
  },
  {
   "cell_type": "code",
   "execution_count": 27,
   "id": "386a67db-bf43-4b37-a449-7bb40804ba3b",
   "metadata": {},
   "outputs": [],
   "source": [
    "# STANDARD DEVIATION : it tells how much data is deviated from the mean\n",
    "# it describes same as variance"
   ]
  },
  {
   "cell_type": "code",
   "execution_count": 28,
   "id": "f46bee3d-f26c-4830-b352-cb172c1582ae",
   "metadata": {},
   "outputs": [],
   "source": [
    "# ANS 6 :\n",
    "# venn diagram is a graphical representation of sets , it consists of circles each circle  representing a set which overlapped to each other\n",
    "# overlapping elements are in both the sets\n"
   ]
  },
  {
   "cell_type": "code",
   "execution_count": 29,
   "id": "1891dd5f-99d2-484b-8173-ab54e1c21dcf",
   "metadata": {},
   "outputs": [],
   "source": [
    "# ANS 7 :\n",
    "# 1 . [3,4,5,7]\n",
    "# 2.  [0,2,3,4,5,6,7,8,10]"
   ]
  },
  {
   "cell_type": "code",
   "execution_count": 30,
   "id": "39a52fb1-442f-4b0e-9453-694069006786",
   "metadata": {},
   "outputs": [],
   "source": [
    "# ANS 8 :\n",
    "# skewness in data means it represents the asymmetry of the probablity distribution\n",
    "# types of skewness\n",
    "# no skewness\n",
    "# positive or rightly skewed\n",
    "# negative or leftly skewed"
   ]
  },
  {
   "cell_type": "code",
   "execution_count": 31,
   "id": "24922e69-87bd-4f7c-9c11-9f2a34a70f19",
   "metadata": {},
   "outputs": [],
   "source": [
    "# ANS 9 :\n",
    "# position of median will towords left w.r.t to mean"
   ]
  },
  {
   "cell_type": "code",
   "execution_count": 32,
   "id": "2eec2c6e-07cd-4073-bddd-62ba8127afbf",
   "metadata": {},
   "outputs": [],
   "source": [
    "# ANS 10:\n",
    "# covariance measures the two variables .\n",
    "# It basically measures how much  value is deviated w.r.t to mean of one variable  associated deciation w.r.t mean of other variable\n",
    "# A positive covariance indicates that the variables tend to move in the same direction, \n",
    "# while a negative covariance indicates that the variables tend to move in opposite directions. \n",
    "\n",
    "\n",
    "# correlation\n",
    "# It measures the strength and direction of the linear relationship between two variables.\n",
    "# Correlation takes values between -1 to 1, where -1 indicates a perfect negative correlation,\n",
    "# 0 indicates no correlation, and +1 indicates a perfect positive correlation\n",
    "\n",
    "# with help of covariance and correlationwe can quantify the relation between x and y "
   ]
  },
  {
   "cell_type": "code",
   "execution_count": 33,
   "id": "5975454c-a5e1-4913-9b00-39d72471c799",
   "metadata": {},
   "outputs": [
    {
     "data": {
      "text/plain": [
       "4.5"
      ]
     },
     "execution_count": 33,
     "metadata": {},
     "output_type": "execute_result"
    }
   ],
   "source": [
    "# ANS 11 :\n",
    "# sample mean : (sum of the values of the sample mean / no.of values in the sample)\n",
    "sample_Set = [2,3,4,5,6,7]\n",
    "np.mean(sample_Set)"
   ]
  },
  {
   "cell_type": "code",
   "execution_count": 34,
   "id": "d5673af8-ed2d-4b56-9fc0-d4d6967cf8af",
   "metadata": {},
   "outputs": [],
   "source": [
    "# ANS 12:\n",
    "# FOR normal ditribution \n",
    "# relation : mean = median = mode"
   ]
  },
  {
   "cell_type": "code",
   "execution_count": 35,
   "id": "fced3e86-7d54-4d32-9de6-6a4b4a80b956",
   "metadata": {},
   "outputs": [],
   "source": [
    "# ANS 13:\n",
    "# covariance measures the two variables .\n",
    "# It basically measures how much  value is deviated w.r.t to mean of one variable  associated deciation w.r.t mean of other variable\n",
    "# A positive covariance indicates that the variables tend to move in the same direction, \n",
    "# while a negative covariance indicates that the variables tend to move in opposite directions. \n",
    "\n",
    "\n",
    "# correlation\n",
    "# It measures the strength and direction of the linear relationship between two variables.\n",
    "# Correlation takes values between -1 to 1, where -1 indicates a perfect negative correlation,\n",
    "# 0 indicates no correlation, and +1 indicates a perfect positive correlation"
   ]
  },
  {
   "cell_type": "code",
   "execution_count": 36,
   "id": "0e27ba07-d58b-4ed9-89f2-762f99c131d7",
   "metadata": {},
   "outputs": [],
   "source": [
    "# ANS 14:\n",
    "# outlier : it is diffrent value with respect to other values in the data set\n",
    "# for example \n",
    "a = [1,2,3,4,5,6,7,100]\n",
    "# so 100 is an outlier because it too large as compared to other values in the  dataset\n",
    "# outlier can too small also are it can be different \n",
    "# outlier can detected by using box plot"
   ]
  },
  {
   "cell_type": "code",
   "execution_count": 37,
   "id": "13fcefae-bdac-40d6-a50f-6040e897bcfd",
   "metadata": {},
   "outputs": [
    {
     "data": {
      "text/plain": [
       "16.0"
      ]
     },
     "execution_count": 37,
     "metadata": {},
     "output_type": "execute_result"
    }
   ],
   "source": [
    "# So, it effect when we calculate mean \n",
    "np.mean(a)"
   ]
  },
  {
   "cell_type": "code",
   "execution_count": 38,
   "id": "2d7d3fce-7aa6-4d1a-8be4-0b520b555e89",
   "metadata": {},
   "outputs": [
    {
     "data": {
      "text/plain": [
       "4.0"
      ]
     },
     "execution_count": 38,
     "metadata": {},
     "output_type": "execute_result"
    }
   ],
   "source": [
    "# now will take out 100 from the list\n",
    "b = [1,2,3,4,5,6,7]\n",
    "np.mean(b)"
   ]
  },
  {
   "cell_type": "code",
   "execution_count": 39,
   "id": "2a3ee5af-9335-4b32-a9ce-3adcb17ac40b",
   "metadata": {},
   "outputs": [],
   "source": [
    "# so we can see the huge diffrence between 4 and 16\n",
    "# thats how it effect\n",
    "# if it effect mean then it will  also effect the standard deviation and variance  because both are calculated with the help of mean"
   ]
  },
  {
   "cell_type": "code",
   "execution_count": null,
   "id": "98d61fe0-8517-4f36-8c4d-168956385681",
   "metadata": {},
   "outputs": [],
   "source": []
  }
 ],
 "metadata": {
  "kernelspec": {
   "display_name": "Python 3 (ipykernel)",
   "language": "python",
   "name": "python3"
  },
  "language_info": {
   "codemirror_mode": {
    "name": "ipython",
    "version": 3
   },
   "file_extension": ".py",
   "mimetype": "text/x-python",
   "name": "python",
   "nbconvert_exporter": "python",
   "pygments_lexer": "ipython3",
   "version": "3.10.8"
  }
 },
 "nbformat": 4,
 "nbformat_minor": 5
}
